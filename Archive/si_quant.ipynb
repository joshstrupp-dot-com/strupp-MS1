{
 "cells": [
  {
   "cell_type": "markdown",
   "metadata": {},
   "source": [
    "## Import JSON for NHMS - Mammals"
   ]
  },
  {
   "cell_type": "code",
   "execution_count": 1,
   "metadata": {},
   "outputs": [],
   "source": [
    "import pandas as pd\n",
    "\n",
    "# Load the JSON file into a DataFrame\n",
    "# df = pd.read_json('normal_test.json')\n",
    "df = pd.read_json('mammals_10k_rand_1.json')\n",
    "\n",
    "# Print the head of the DataFrame\n",
    "# print(df.head())"
   ]
  },
  {
   "cell_type": "markdown",
   "metadata": {},
   "source": [
    "## Explore physical descriptions\n",
    "For sort by: most relevant in mammals collection only"
   ]
  },
  {
   "cell_type": "code",
   "execution_count": 2,
   "metadata": {},
   "outputs": [
    {
     "name": "stdout",
     "output_type": "stream",
     "text": [
      "1     ['35 g', '256 mm', '152 mm', '26 mm', '19 mm',...\n",
      "2     ['35 g', '127 mm', '48 mm', '14 mm', '17 mm', ...\n",
      "6     ['213 mm', '71 mm', '29 mm', 'Skin', 'Skull', ...\n",
      "11    ['35 g', '256 mm', '152 mm', '26 mm', '19 mm',...\n",
      "12    ['35 g', '127 mm', '48 mm', '14 mm', '17 mm', ...\n",
      "16    ['213 mm', '71 mm', '29 mm', 'Skin', 'Skull', ...\n",
      "20    ['4 g', '83 mm', '35 mm', '9 mm', '13 mm', 'Sk...\n",
      "27    ['230 mm', '101 mm', '29 mm', 'Skin', 'Skull',...\n",
      "31    ['15 g', '82 mm', '21 mm', '13 mm', '23 mm', '...\n",
      "32    ['1180 mm', '620 mm', '130 mm', '40 mm', 'Anat...\n",
      "33    ['3.4 g', '83 mm', '35 mm', '11 mm', 'Skin', '...\n",
      "34    ['221 mm', '68 mm', '29 mm', 'Skin', 'Skull', ...\n",
      "35    ['225 mm', '105 mm', '36 mm', 'Skin', 'Skull',...\n",
      "41    ['114 mm', '43 mm', '315 mm', 'Skin', 'Skull',...\n",
      "42    ['81 mm', '35 mm', '8 mm', 'Skin', 'Skull', 'M...\n",
      "43    ['111 mm', '21 mm', '20 mm', 'Skin', 'Skull', ...\n",
      "47    ['40 g', '250 mm', '140 mm', '28 mm', '17 mm',...\n",
      "48    ['7 g', '91 mm', '33 mm', '8 mm', '16 mm', 'Sk...\n",
      "50    ['165 mm', '90 mm', '21 mm', 'Skin', 'Skull', ...\n",
      "53    ['143 cm', 'Anatomical', 'Skull', 'right flipp...\n",
      "Name: physicalDescriptions, dtype: object\n",
      "16360\n"
     ]
    }
   ],
   "source": [
    "# create dataset where physicalDescriptions strings includes at least one number. Print head and total count. \n",
    "df['physicalDescriptions'] = df['physicalDescriptions'].astype(str)\n",
    "df = df[df['physicalDescriptions'].str.contains(r'\\d', na=False)]\n",
    "# print(df['physicalDescriptions'].head(20))\n",
    "# print(df['physicalDescriptions'].count())"
   ]
  },
  {
   "cell_type": "markdown",
   "metadata": {},
   "source": [
    "# With 405 records out of 1010 with numbers in physicalDescriptions\n",
    "we can see that 40% of the records have numbers in the physicalDescriptions field.\n",
    "\n",
    "Repeat this process for the first number that is followed by ' mm' and add it to a new column called \"length\", and turn that number into an integer.\n",
    "If ' mm' is not found but a ' cm' is found, convert the ' cm' to ' mm' and add it to the \"length\" column.\n",
    "astly, if there are no instances of ' g' or ' mm' in the physicalDescription, add a NaN to the weight_g and length columns."
   ]
  },
  {
   "cell_type": "code",
   "execution_count": 3,
   "metadata": {},
   "outputs": [],
   "source": [
    "# for each row and in physicalDescription, identify the first number that is followed by ' g' and add it to a new column called \"weight_g\", and turn that number into an integer.\n",
    "# Adjust regex to capture decimal and integer values followed by ' g'\n",
    "df['weight_g'] = df['physicalDescriptions'].str.extract(r'(\\d+\\.?\\d*) g', expand=False)\n",
    "df['weight_g'] = df['weight_g'].fillna(0).astype(float)\n",
    "df['weight_g'] = df['weight_g'] + df['physicalDescriptions'].str.extract(r'(\\d+\\.?\\d*) kg', expand=False).fillna(0).astype(float) * 1000"
   ]
  },
  {
   "cell_type": "code",
   "execution_count": 4,
   "metadata": {},
   "outputs": [],
   "source": [
    "# for physicalDescription rows that have missing values for length, if the first number found in the physicalDescription is followed by ' cm', multiply that number by 10 and add it to the length column.\n",
    "# and if the first number found in the physicalDescription is followed by ' m', multiply that number by 1000 and add it to the length column.\n",
    "# Extract mm values first\n",
    "df['length_mm'] = df['physicalDescriptions'].str.extract(r'(\\d+\\.?\\d*) mm', expand=False).astype(float)\n",
    "\n",
    "# Apply cm to mm conversion only where length is missing\n",
    "df.loc[df['length_mm'].isna(), 'length_mm'] = df['physicalDescriptions'].str.extract(r'(\\d+\\.?\\d*) cm', expand=False).fillna(0).astype(float) * 10\n",
    "\n",
    "# Apply m to mm conversion only where length is still missing\n",
    "df.loc[df['length_mm'].isna(), 'length_mm'] = df['physicalDescriptions'].str.extract(r'(\\d+\\.?\\d*) m', expand=False).fillna(0).astype(float) * 1000\n"
   ]
  },
  {
   "cell_type": "code",
   "execution_count": 5,
   "metadata": {},
   "outputs": [
    {
     "name": "stderr",
     "output_type": "stream",
     "text": [
      "/var/folders/pc/j_zmpc9s0g9frv2jzfv1l51c0000gn/T/ipykernel_9158/106041886.py:3: FutureWarning: A value is trying to be set on a copy of a DataFrame or Series through chained assignment using an inplace method.\n",
      "The behavior will change in pandas 3.0. This inplace method will never work because the intermediate object on which we are setting values always behaves as a copy.\n",
      "\n",
      "For example, when doing 'df[col].method(value, inplace=True)', try using 'df.method({col: value}, inplace=True)' or df[col] = df[col].method(value) instead, to perform the operation inplace on the original object.\n",
      "\n",
      "\n",
      "  df['weight_g'].replace(0, np.nan, inplace=True)\n",
      "/var/folders/pc/j_zmpc9s0g9frv2jzfv1l51c0000gn/T/ipykernel_9158/106041886.py:4: FutureWarning: A value is trying to be set on a copy of a DataFrame or Series through chained assignment using an inplace method.\n",
      "The behavior will change in pandas 3.0. This inplace method will never work because the intermediate object on which we are setting values always behaves as a copy.\n",
      "\n",
      "For example, when doing 'df[col].method(value, inplace=True)', try using 'df.method({col: value}, inplace=True)' or df[col] = df[col].method(value) instead, to perform the operation inplace on the original object.\n",
      "\n",
      "\n",
      "  df['length_mm'].replace(0, np.nan, inplace=True)\n"
     ]
    }
   ],
   "source": [
    "import numpy as np\n",
    "\n",
    "df['weight_g'].replace(0, np.nan, inplace=True)\n",
    "df['length_mm'].replace(0, np.nan, inplace=True)"
   ]
  },
  {
   "cell_type": "markdown",
   "metadata": {},
   "source": [
    "# Attempt 1 of confidence interval for rest of population   "
   ]
  },
  {
   "cell_type": "code",
   "execution_count": 6,
   "metadata": {},
   "outputs": [
    {
     "name": "stdout",
     "output_type": "stream",
     "text": [
      "I am 95% sure the average weight of this dataset is between: (3690.6833354853925, 5552.366453671234) grams\n"
     ]
    }
   ],
   "source": [
    "from scipy import stats;\n",
    "import numpy as np\n",
    "\n",
    "# Sample size\n",
    "n = len(df)\n",
    "\n",
    "# Population size\n",
    "N = 500000\n",
    "\n",
    "# Sample mean and standard deviation\n",
    "sample_mean = df['weight_g'].mean()\n",
    "sample_std = df['weight_g'].std(ddof=1)\n",
    "\n",
    "# Standard error of the mean\n",
    "sem = sample_std / np.sqrt(n)\n",
    "\n",
    "# Confidence level\n",
    "\n",
    "confidence_level = 0.95\n",
    "\n",
    "# Degrees of freedom\n",
    "df_degrees = n - 1\n",
    "\n",
    "# t-score for the confidence level\n",
    "t_score = stats.t.ppf((1 + confidence_level) / 2, df_degrees)\n",
    "\n",
    "# Margin of error\n",
    "margin_of_error = t_score * sem\n",
    "\n",
    "# Confidence interval\n",
    "confidence_interval = (sample_mean - margin_of_error, sample_mean + margin_of_error)\n",
    "\n",
    "print(f\"I am 95% sure the average weight of this dataset is between: {confidence_interval} grams\")"
   ]
  },
  {
   "cell_type": "code",
   "execution_count": 7,
   "metadata": {},
   "outputs": [
    {
     "name": "stdout",
     "output_type": "stream",
     "text": [
      "I am 95% sure the average length of this dataset is between: (329.5507903976483, 370.698943832259) grams\n"
     ]
    }
   ],
   "source": [
    "# Sample mean and standard deviation for length\n",
    "sample_mean_length = df['length_mm'].mean()\n",
    "sample_std_length = df['length_mm'].std(ddof=1)\n",
    "\n",
    "# Standard error of the mean for length\n",
    "sem_length = sample_std_length / np.sqrt(n)\n",
    "\n",
    "# t-score for the confidence level (already defined as t_score)\n",
    "# Margin of error for length\n",
    "margin_of_error_length = t_score * sem_length\n",
    "\n",
    "# Confidence interval for length\n",
    "confidence_interval_length = (sample_mean_length - margin_of_error_length, sample_mean_length + margin_of_error_length)\n",
    "\n",
    "print(f\"I am 95% sure the average length of this dataset is between: {confidence_interval_length} grams\")"
   ]
  },
  {
   "cell_type": "code",
   "execution_count": 8,
   "metadata": {},
   "outputs": [],
   "source": [
    "# Export the DataFrame as a new JSON document with \"norm\" appended to the original name\n",
    "df.to_json('mammals_10k_rand_1_norm.json', orient='records', lines=True)"
   ]
  },
  {
   "cell_type": "code",
   "execution_count": null,
   "metadata": {},
   "outputs": [],
   "source": []
  }
 ],
 "metadata": {
  "kernelspec": {
   "display_name": "my_env",
   "language": "python",
   "name": "my_env"
  },
  "language_info": {
   "codemirror_mode": {
    "name": "ipython",
    "version": 3
   },
   "file_extension": ".py",
   "mimetype": "text/x-python",
   "name": "python",
   "nbconvert_exporter": "python",
   "pygments_lexer": "ipython3",
   "version": "3.12.4"
  }
 },
 "nbformat": 4,
 "nbformat_minor": 2
}
